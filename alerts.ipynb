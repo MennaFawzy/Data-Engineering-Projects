{
 "cells": [
  {
   "cell_type": "code",
   "execution_count": 1,
   "id": "ded66157-3fb3-4f8e-8862-094fe2fc1611",
   "metadata": {},
   "outputs": [],
   "source": [
    "from pyspark.sql import SparkSession\n",
    "from pyspark.sql.functions import from_json, col, explode\n",
    "from pyspark.sql.types import *"
   ]
  },
  {
   "cell_type": "code",
   "execution_count": 2,
   "id": "d30ce3ee-c90e-418e-8f1d-0efa7e25f523",
   "metadata": {},
   "outputs": [
    {
     "name": "stderr",
     "output_type": "stream",
     "text": [
      "Setting default log level to \"WARN\".\n",
      "To adjust logging level use sc.setLogLevel(newLevel). For SparkR, use setLogLevel(newLevel).\n",
      "25/08/21 09:53:12 WARN NativeCodeLoader: Unable to load native-hadoop library for your platform... using builtin-java classes where applicable\n",
      "25/08/21 09:53:13 WARN Utils: Service 'SparkUI' could not bind on port 4040. Attempting port 4041.\n"
     ]
    }
   ],
   "source": [
    "# Spark session\n",
    "spark = SparkSession.builder \\\n",
    "    .appName(\"KafkaConsumerGTFSA\") \\\n",
    "    .master(\"local[*]\") \\\n",
    "    .getOrCreate()"
   ]
  },
  {
   "cell_type": "code",
   "execution_count": 3,
   "id": "c99d86db-ab85-40c5-9707-36dbda3bf052",
   "metadata": {},
   "outputs": [],
   "source": [
    "# ClickHouse connection details\n",
    "CLICKHOUSE_HOST = \"clickhouse\"\n",
    "CLICKHOUSE_PORT = 8123\n",
    "CLICKHOUSE_USER = \"default\"\n",
    "CLICKHOUSE_PASS = \"123\"\n",
    "CLICKHOUSE_DB = \"gtfs_streaming\"\n",
    "CLICKHOUSE_TABLE = \"gtfs_alerts\""
   ]
  },
  {
   "cell_type": "code",
   "execution_count": 4,
   "id": "121bc2ef-64fe-4d8f-9548-968865bed72b",
   "metadata": {},
   "outputs": [],
   "source": [
    "# Define schema for GTFS Realtime JSON\n",
    "schema = StructType([\n",
    "    StructField(\"header\", StructType([\n",
    "        StructField(\"gtfsRealtimeVersion\", StringType(), True),\n",
    "        StructField(\"timestamp\", StringType(), True)\n",
    "    ]), True),\n",
    "    StructField(\"entity\", ArrayType(StructType([\n",
    "        StructField(\"id\", StringType(), True),\n",
    "        StructField(\"alert\", StructType([\n",
    "            StructField(\"activePeriod\", ArrayType(StructType([\n",
    "                StructField(\"start\", StringType(), True),\n",
    "                StructField(\"end\", StringType(), True)\n",
    "            ]), True), True),\n",
    "            StructField(\"informedEntity\", ArrayType(StructType([\n",
    "                StructField(\"agencyId\", StringType(), True),\n",
    "                StructField(\"routeId\", StringType(), True)\n",
    "            ]), True), True),\n",
    "            StructField(\"headerText\", StructType([\n",
    "                StructField(\"translation\", ArrayType(StructType([\n",
    "                    StructField(\"text\", StringType(), True),\n",
    "                    StructField(\"language\", StringType(), True)\n",
    "                ]), True), True)\n",
    "            ]), True),\n",
    "            StructField(\"descriptionText\", StructType([\n",
    "                StructField(\"translation\", ArrayType(StructType([\n",
    "                    StructField(\"text\", StringType(), True),\n",
    "                    StructField(\"language\", StringType(), True)\n",
    "                ]), True), True)\n",
    "            ]), True)\n",
    "        ]), True)\n",
    "    ]), True), True)\n",
    "])"
   ]
  },
  {
   "cell_type": "code",
   "execution_count": 5,
   "id": "c5a2e711-de9d-451d-a370-ec818318f048",
   "metadata": {},
   "outputs": [],
   "source": [
    "# Read from Kafka\n",
    "raw_df = spark.readStream.format(\"kafka\") \\\n",
    "    .option(\"kafka.bootstrap.servers\", \"broker:29092\") \\\n",
    "    .option(\"subscribe\", \"gtfs-alerts\") \\\n",
    "    .option(\"startingOffsets\", \"earliest\") \\\n",
    "    .load()"
   ]
  },
  {
   "cell_type": "code",
   "execution_count": 6,
   "id": "67a3e2ae-350d-4aff-9481-b72fd47bcabd",
   "metadata": {},
   "outputs": [],
   "source": [
    "kafka_df = raw_df.selectExpr(\"CAST(value AS STRING) AS json_str\", \"topic\")\n",
    "alert_df = kafka_df.select(from_json(col(\"json_str\"), schema).alias(\"data\")).select(\"data.*\")"
   ]
  },
  {
   "cell_type": "code",
   "execution_count": 7,
   "id": "795ce794-6e81-4a1f-b9e2-b7152fa2c1c0",
   "metadata": {},
   "outputs": [],
   "source": [
    "# Flatten nested JSON\n",
    "df_entity = alert_df.select(\"header\", explode(\"entity\").alias(\"entity\"))"
   ]
  },
  {
   "cell_type": "code",
   "execution_count": 8,
   "id": "d496307a-dc91-4290-bb0b-b604e8568313",
   "metadata": {},
   "outputs": [],
   "source": [
    "df_active_period = df_entity.select(\n",
    "    col(\"header.gtfsRealtimeVersion\").alias(\"gtfsRealtimeVersion\"),\n",
    "    col(\"header.timestamp\").alias(\"timestamp\"),\n",
    "    col(\"entity.id\").alias(\"id\"),\n",
    "    explode(\"entity.alert.activePeriod\").alias(\"activePeriod\"),\n",
    "    col(\"entity.alert.informedEntity\").alias(\"informedEntity\"),\n",
    "    col(\"entity.alert.headerText\").alias(\"headerText\"),\n",
    "    col(\"entity.alert.descriptionText\").alias(\"descriptionText\")\n",
    ").filter(col(\"activePeriod\").isNotNull())"
   ]
  },
  {
   "cell_type": "code",
   "execution_count": 9,
   "id": "a33a5001-7331-4e78-b454-483438a23ae7",
   "metadata": {},
   "outputs": [],
   "source": [
    "df_informed_entity = df_active_period.select(\n",
    "    \"gtfsRealtimeVersion\",\n",
    "    \"timestamp\",\n",
    "    \"id\",\n",
    "    col(\"activePeriod.start\").alias(\"activePeriod_start\"),\n",
    "    col(\"activePeriod.end\").alias(\"activePeriod_end\"),\n",
    "    explode(\"informedEntity\").alias(\"informedEntity\"),\n",
    "    \"headerText\",\n",
    "    \"descriptionText\"\n",
    ").filter(col(\"informedEntity\").isNotNull())"
   ]
  },
  {
   "cell_type": "code",
   "execution_count": 10,
   "id": "39918fbe-e878-4f5f-9fa9-5733876707c2",
   "metadata": {},
   "outputs": [],
   "source": [
    "df_header_text = df_informed_entity.select(\n",
    "    \"gtfsRealtimeVersion\",\n",
    "    \"timestamp\",\n",
    "    \"id\",\n",
    "    \"activePeriod_start\",\n",
    "    \"activePeriod_end\",\n",
    "    col(\"informedEntity.agencyId\").alias(\"agencyId\"),\n",
    "    col(\"informedEntity.routeId\").alias(\"routeId\"),\n",
    "    explode(\"headerText.translation\").alias(\"headerTranslation\"),\n",
    "    \"descriptionText\"\n",
    ").filter(col(\"headerTranslation\").isNotNull())"
   ]
  },
  {
   "cell_type": "code",
   "execution_count": 11,
   "id": "48e38823-6acb-43de-a7a6-8196e7e6df0b",
   "metadata": {},
   "outputs": [],
   "source": [
    "df_final = df_header_text.select(\n",
    "    \"gtfsRealtimeVersion\",\n",
    "    \"timestamp\",\n",
    "    \"id\",\n",
    "    \"activePeriod_start\",\n",
    "    \"activePeriod_end\",\n",
    "    \"agencyId\",\n",
    "    \"routeId\",\n",
    "    col(\"headerTranslation.text\").alias(\"header_text\"),\n",
    "    col(\"headerTranslation.language\").alias(\"header_language\"),\n",
    "    explode(\"descriptionText.translation\").alias(\"descriptionTranslation\")\n",
    ").filter(col(\"descriptionTranslation\").isNotNull())"
   ]
  },
  {
   "cell_type": "code",
   "execution_count": 12,
   "id": "5e97f05a-34e7-4148-855b-16663f55c86a",
   "metadata": {},
   "outputs": [],
   "source": [
    "df_final = df_final.select(\n",
    "    \"gtfsRealtimeVersion\",\n",
    "    \"timestamp\",\n",
    "    \"id\",\n",
    "    \"activePeriod_start\",\n",
    "    \"activePeriod_end\",\n",
    "    \"agencyId\",\n",
    "    \"routeId\",\n",
    "    \"header_text\",\n",
    "    \"header_language\",\n",
    "    col(\"descriptionTranslation.text\").alias(\"description_text\"),\n",
    "    col(\"descriptionTranslation.language\").alias(\"description_language\")\n",
    ")"
   ]
  },
  {
   "cell_type": "code",
   "execution_count": 13,
   "id": "92cab6d2-7b9e-4981-8ad4-334a45bc56b4",
   "metadata": {},
   "outputs": [],
   "source": [
    "# JDBC details for Spark\n",
    "clickhouse_url = f\"jdbc:clickhouse://{CLICKHOUSE_HOST}:{CLICKHOUSE_PORT}/{CLICKHOUSE_DB}\"\n",
    "clickhouse_properties = {\n",
    "    \"user\": CLICKHOUSE_USER,\n",
    "    \"password\": CLICKHOUSE_PASS,\n",
    "    \"driver\": \"com.clickhouse.jdbc.ClickHouseDriver\"\n",
    "}"
   ]
  },
  {
   "cell_type": "code",
   "execution_count": 14,
   "id": "5e3e5df1-a4cd-4e99-8167-3dd0484240b6",
   "metadata": {},
   "outputs": [],
   "source": [
    "# Function to write each micro-batch to ClickHouse\n",
    "def write_to_clickhouse(batch_df, batch_id):\n",
    "    batch_df.write \\\n",
    "        .mode(\"append\") \\\n",
    "        .jdbc(clickhouse_url, CLICKHOUSE_TABLE, properties=clickhouse_properties)"
   ]
  },
  {
   "cell_type": "code",
   "execution_count": 16,
   "id": "b4ac8413-26be-4713-8239-689b1d5e6f79",
   "metadata": {},
   "outputs": [
    {
     "name": "stderr",
     "output_type": "stream",
     "text": [
      "25/08/21 09:53:34 WARN ResolveWriteToStream: spark.sql.adaptive.enabled is not supported in streaming DataFrames/Datasets and will be disabled.\n",
      "25/08/21 09:53:35 WARN AdminClientConfig: These configurations '[key.deserializer, value.deserializer, enable.auto.commit, max.poll.records, auto.offset.reset]' were supplied but are not used yet.\n"
     ]
    }
   ],
   "source": [
    "# Start streaming to ClickHouse\n",
    "alert_query = df_final.writeStream \\\n",
    "    .outputMode(\"append\") \\\n",
    "    .foreachBatch(write_to_clickhouse) \\\n",
    "    .trigger(processingTime=\"30 seconds\") \\\n",
    "    .option(\"checkpointLocation\", \"check_points/alerts_checks\") \\\n",
    "    .start()"
   ]
  },
  {
   "cell_type": "code",
   "execution_count": null,
   "id": "30b7fec6-4a67-4b9b-99c4-9510bc24e72b",
   "metadata": {},
   "outputs": [],
   "source": [
    "# # Create ClickHouse table if it does not exist\n",
    "# client = clickhouse_connect.get_client(\n",
    "#     host=CLICKHOUSE_HOST,\n",
    "#     port=CLICKHOUSE_PORT,\n",
    "#     username=CLICKHOUSE_USER,\n",
    "#     password=CLICKHOUSE_PASS\n",
    "# )\n",
    "\n",
    "# client.command(f\"\"\"\n",
    "# CREATE DATABASE IF NOT EXISTS {CLICKHOUSE_DB}\n",
    "# \"\"\")\n",
    "\n",
    "# client.command(f\"\"\"\n",
    "# CREATE TABLE IF NOT EXISTS {CLICKHOUSE_DB}.{CLICKHOUSE_TABLE} (\n",
    "#     gtfsRealtimeVersion String,\n",
    "#     timestamp String,\n",
    "#     id String,\n",
    "#     activePeriod_start String,\n",
    "#     activePeriod_end String,\n",
    "#     agencyId String,\n",
    "#     routeId String,\n",
    "#     header_text String,\n",
    "#     header_language String,\n",
    "#     description_text String,\n",
    "#     description_language String\n",
    "# ) ENGINE = MergeTree()\n",
    "# ORDER BY id\n",
    "# \"\"\")"
   ]
  },
  {
   "cell_type": "code",
   "execution_count": null,
   "id": "dbd11286-9842-4ce6-86e0-0e3a7e9b40d4",
   "metadata": {},
   "outputs": [],
   "source": []
  },
  {
   "cell_type": "code",
   "execution_count": null,
   "id": "e51c1024-c3c0-412f-9652-9698efeb7bb2",
   "metadata": {},
   "outputs": [],
   "source": []
  }
 ],
 "metadata": {
  "kernelspec": {
   "display_name": "Python 3 (ipykernel)",
   "language": "python",
   "name": "python3"
  },
  "language_info": {
   "codemirror_mode": {
    "name": "ipython",
    "version": 3
   },
   "file_extension": ".py",
   "mimetype": "text/x-python",
   "name": "python",
   "nbconvert_exporter": "python",
   "pygments_lexer": "ipython3",
   "version": "3.11.8"
  }
 },
 "nbformat": 4,
 "nbformat_minor": 5
}
