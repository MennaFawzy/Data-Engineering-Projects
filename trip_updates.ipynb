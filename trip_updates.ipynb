{
 "cells": [
  {
   "cell_type": "code",
   "execution_count": 1,
   "id": "30e297b8-deaa-4ac0-b842-84ce53912a16",
   "metadata": {},
   "outputs": [],
   "source": [
    "from pyspark.sql import SparkSession\n",
    "from pyspark.sql.functions import from_json, col, expr\n",
    "from pyspark.sql.types import *"
   ]
  },
  {
   "cell_type": "code",
   "execution_count": 2,
   "id": "0b85a962-8a14-4f33-85e7-8f29e50840ca",
   "metadata": {},
   "outputs": [
    {
     "name": "stderr",
     "output_type": "stream",
     "text": [
      "Setting default log level to \"WARN\".\n",
      "To adjust logging level use sc.setLogLevel(newLevel). For SparkR, use setLogLevel(newLevel).\n",
      "25/08/21 09:54:05 WARN NativeCodeLoader: Unable to load native-hadoop library for your platform... using builtin-java classes where applicable\n",
      "25/08/21 09:54:06 WARN Utils: Service 'SparkUI' could not bind on port 4040. Attempting port 4041.\n",
      "25/08/21 09:54:06 WARN Utils: Service 'SparkUI' could not bind on port 4041. Attempting port 4042.\n"
     ]
    }
   ],
   "source": [
    "spark = SparkSession.builder \\\n",
    "    .appName(\"KafkaConsumerGTFSTU\") \\\n",
    "    .master(\"local[*]\") \\\n",
    "    .getOrCreate()"
   ]
  },
  {
   "cell_type": "code",
   "execution_count": 3,
   "id": "2670a4d2-05ad-4e33-b263-04a3f1791e42",
   "metadata": {},
   "outputs": [],
   "source": [
    "trip_update_schema = StructType([\n",
    "    StructField(\"header\", StructType([\n",
    "        StructField(\"gtfsRealtimeVersion\", StringType()),\n",
    "        StructField(\"incrementality\", StringType()),\n",
    "        StructField(\"timestamp\", StringType())\n",
    "    ])),\n",
    "    StructField(\"entity\", ArrayType(StructType([\n",
    "        StructField(\"id\", StringType()),\n",
    "        StructField(\"tripUpdate\", StructType([\n",
    "            StructField(\"trip\", StructType([\n",
    "                StructField(\"tripId\", StringType()),\n",
    "                StructField(\"routeId\", StringType()),\n",
    "                StructField(\"directionId\", IntegerType()),\n",
    "                StructField(\"startDate\", StringType())\n",
    "            ])),\n",
    "            StructField(\"vehicle\", StructType([\n",
    "                StructField(\"id\", StringType())\n",
    "            ])),\n",
    "            StructField(\"stopTimeUpdate\", ArrayType(StructType([\n",
    "                StructField(\"stopSequence\", IntegerType()),\n",
    "                StructField(\"stopId\", StringType()),\n",
    "                StructField(\"arrival\", StructType([\n",
    "                    StructField(\"time\", StringType())\n",
    "                ])),\n",
    "                StructField(\"departure\", StructType([\n",
    "                    StructField(\"time\", StringType())\n",
    "                ]))\n",
    "            ]))),\n",
    "            StructField(\"timestamp\", StringType()),\n",
    "            StructField(\"delay\", IntegerType())\n",
    "        ]))\n",
    "    ])))\n",
    "])"
   ]
  },
  {
   "cell_type": "code",
   "execution_count": 4,
   "id": "62742cb2-17c2-46cc-b834-405ec8943e01",
   "metadata": {},
   "outputs": [],
   "source": [
    "raw_df = spark.readStream.format(\"kafka\") \\\n",
    "    .option(\"kafka.bootstrap.servers\", \"broker:29092\") \\\n",
    "    .option(\"subscribe\", \"gtfs-trip-updates\") \\\n",
    "    .option(\"startingOffsets\", \"earliest\") \\\n",
    "    .load()"
   ]
  },
  {
   "cell_type": "code",
   "execution_count": 5,
   "id": "c7bc2377-29dd-46ad-96d8-868e55d0b7c5",
   "metadata": {},
   "outputs": [],
   "source": [
    "kafka_df = raw_df.selectExpr(\"CAST(value AS STRING) AS json_str\", \"topic\")"
   ]
  },
  {
   "cell_type": "code",
   "execution_count": 6,
   "id": "5e7abd9d-f724-4078-bfe8-e95da6cd46ad",
   "metadata": {},
   "outputs": [],
   "source": [
    "trip_update_df = kafka_df.select(from_json(col(\"json_str\"), trip_update_schema).alias(\"data\")) \\\n",
    "    .select(\"data.*\")"
   ]
  },
  {
   "cell_type": "code",
   "execution_count": 7,
   "id": "af64761c-33ee-4ebb-a01e-eb827df72fc3",
   "metadata": {},
   "outputs": [],
   "source": [
    "trip_update_exploded_df = trip_update_df.select(\n",
    "    col(\"header.gtfsRealtimeVersion\").alias(\"gtfs_version\"),\n",
    "    col(\"header.incrementality\").alias(\"incrementality\"),\n",
    "    col(\"header.timestamp\").alias(\"header_timestamp\"),\n",
    "    expr(\"explode(entity) as entity\")\n",
    ").select(\n",
    "    col(\"gtfs_version\"),\n",
    "    col(\"incrementality\"),\n",
    "    col(\"header_timestamp\"),\n",
    "    col(\"entity.id\").alias(\"entity_id\"),\n",
    "    col(\"entity.tripUpdate.trip.tripId\").alias(\"trip_id\"),\n",
    "    col(\"entity.tripUpdate.trip.routeId\").alias(\"route_id\"),\n",
    "    col(\"entity.tripUpdate.trip.directionId\").alias(\"direction_id\"),\n",
    "    col(\"entity.tripUpdate.trip.startDate\").alias(\"start_date\"),\n",
    "    col(\"entity.tripUpdate.vehicle.id\").alias(\"vehicle_id\"),\n",
    "    expr(\"explode(entity.tripUpdate.stopTimeUpdate) as stop_update\"),\n",
    "    col(\"entity.tripUpdate.timestamp\").alias(\"trip_timestamp\"),\n",
    "    col(\"entity.tripUpdate.delay\").alias(\"delay\")\n",
    ").select(\n",
    "    col(\"gtfs_version\"),\n",
    "    col(\"incrementality\"),\n",
    "    col(\"header_timestamp\"),\n",
    "    col(\"entity_id\"),\n",
    "    col(\"trip_id\"),\n",
    "    col(\"route_id\"),\n",
    "    col(\"direction_id\"),\n",
    "    col(\"start_date\"),\n",
    "    col(\"vehicle_id\"),\n",
    "    col(\"stop_update.stopSequence\").alias(\"stop_sequence\"),\n",
    "    col(\"stop_update.stopId\").alias(\"stop_id\"),\n",
    "    col(\"stop_update.arrival.time\").alias(\"arrival_time\"),\n",
    "    col(\"stop_update.departure.time\").alias(\"departure_time\"),\n",
    "    col(\"trip_timestamp\"),\n",
    "    col(\"delay\"))"
   ]
  },
  {
   "cell_type": "code",
   "execution_count": 9,
   "id": "455792d0-19a3-4b8e-a671-d155ad7fc536",
   "metadata": {},
   "outputs": [],
   "source": [
    "# ClickHouse JDBC connection details\n",
    "clickhouse_url = \"jdbc:clickhouse://clickhouse:8123/gtfs_streaming\"\n",
    "clickhouse_user = \"default\"\n",
    "clickhouse_password =  \"123\"\n",
    "clickhouse_driver = \"com.clickhouse.jdbc.ClickHouseDriver\"\n",
    "clickhouse_table = \"trip_updates\""
   ]
  },
  {
   "cell_type": "code",
   "execution_count": 10,
   "id": "452ed4a4-9865-4ad6-a4b4-a695cb82b7a3",
   "metadata": {},
   "outputs": [],
   "source": [
    "def write_to_clickhouse(batch_df, batch_id):\n",
    "    batch_df.write \\\n",
    "        .format(\"jdbc\") \\\n",
    "        .option(\"url\", clickhouse_url) \\\n",
    "        .option(\"dbtable\", clickhouse_table) \\\n",
    "        .option(\"user\", clickhouse_user) \\\n",
    "        .option(\"password\", clickhouse_password) \\\n",
    "        .option(\"driver\", clickhouse_driver) \\\n",
    "        .mode(\"append\") \\\n",
    "        .save()"
   ]
  },
  {
   "cell_type": "code",
   "execution_count": 11,
   "id": "ad4a3fb6-4ab5-4c89-bdcf-6fd1bb4d97d3",
   "metadata": {},
   "outputs": [
    {
     "name": "stderr",
     "output_type": "stream",
     "text": [
      "25/08/21 09:54:36 WARN ResolveWriteToStream: spark.sql.adaptive.enabled is not supported in streaming DataFrames/Datasets and will be disabled.\n",
      "25/08/21 09:54:37 WARN AdminClientConfig: These configurations '[key.deserializer, value.deserializer, enable.auto.commit, max.poll.records, auto.offset.reset]' were supplied but are not used yet.\n"
     ]
    }
   ],
   "source": [
    "trip_update_query = trip_update_exploded_df.writeStream \\\n",
    "    .outputMode(\"append\") \\\n",
    "    .trigger(processingTime=\"30 seconds\") \\\n",
    "    .foreachBatch(write_to_clickhouse) \\\n",
    "    .option(\"checkpointLocation\", \"check_points/trip_updates_checks\") \\\n",
    "    .start()"
   ]
  },
  {
   "cell_type": "code",
   "execution_count": null,
   "id": "c6916e31-fcb7-490c-b466-f957c90c02ec",
   "metadata": {},
   "outputs": [],
   "source": []
  }
 ],
 "metadata": {
  "kernelspec": {
   "display_name": "Python 3 (ipykernel)",
   "language": "python",
   "name": "python3"
  },
  "language_info": {
   "codemirror_mode": {
    "name": "ipython",
    "version": 3
   },
   "file_extension": ".py",
   "mimetype": "text/x-python",
   "name": "python",
   "nbconvert_exporter": "python",
   "pygments_lexer": "ipython3",
   "version": "3.11.8"
  }
 },
 "nbformat": 4,
 "nbformat_minor": 5
}
